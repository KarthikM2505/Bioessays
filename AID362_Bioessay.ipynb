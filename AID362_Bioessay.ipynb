{
 "cells": [
  {
   "cell_type": "code",
   "execution_count": 30,
   "metadata": {},
   "outputs": [],
   "source": [
    "import numpy as np\n",
    "import pandas as pd\n",
    "\n",
    "train = pd.read_csv('AID604AID644_AllRed_train.csv')\n",
    "test = pd.read_csv('AID604AID644_AllRed_test.csv')\n"
   ]
  },
  {
   "cell_type": "code",
   "execution_count": 31,
   "metadata": {},
   "outputs": [
    {
     "data": {
      "text/html": [
       "<div>\n",
       "<style scoped>\n",
       "    .dataframe tbody tr th:only-of-type {\n",
       "        vertical-align: middle;\n",
       "    }\n",
       "\n",
       "    .dataframe tbody tr th {\n",
       "        vertical-align: top;\n",
       "    }\n",
       "\n",
       "    .dataframe thead th {\n",
       "        text-align: right;\n",
       "    }\n",
       "</style>\n",
       "<table border=\"1\" class=\"dataframe\">\n",
       "  <thead>\n",
       "    <tr style=\"text-align: right;\">\n",
       "      <th></th>\n",
       "      <th>NEG_01_NEG</th>\n",
       "      <th>NEG_02_NEG</th>\n",
       "      <th>NEG_03_NEG</th>\n",
       "      <th>NEG_04_NEG</th>\n",
       "      <th>NEG_05_NEG</th>\n",
       "      <th>NEG_06_NEG</th>\n",
       "      <th>NEG_07_NEG</th>\n",
       "      <th>NEG_03_POS</th>\n",
       "      <th>NEG_04_POS</th>\n",
       "      <th>NEG_05_POS</th>\n",
       "      <th>...</th>\n",
       "      <th>WBN_LP_H_100</th>\n",
       "      <th>XLogP</th>\n",
       "      <th>PSA</th>\n",
       "      <th>NumRot</th>\n",
       "      <th>NumHBA</th>\n",
       "      <th>NumHBD</th>\n",
       "      <th>MW</th>\n",
       "      <th>BBB</th>\n",
       "      <th>BadGroup</th>\n",
       "      <th>Outcome</th>\n",
       "    </tr>\n",
       "  </thead>\n",
       "  <tbody>\n",
       "    <tr>\n",
       "      <th>0</th>\n",
       "      <td>0</td>\n",
       "      <td>0</td>\n",
       "      <td>0</td>\n",
       "      <td>0</td>\n",
       "      <td>0</td>\n",
       "      <td>0</td>\n",
       "      <td>0</td>\n",
       "      <td>0</td>\n",
       "      <td>0</td>\n",
       "      <td>0</td>\n",
       "      <td>...</td>\n",
       "      <td>3.64</td>\n",
       "      <td>1.75</td>\n",
       "      <td>46.53</td>\n",
       "      <td>3</td>\n",
       "      <td>3</td>\n",
       "      <td>1</td>\n",
       "      <td>230.26</td>\n",
       "      <td>1</td>\n",
       "      <td>0</td>\n",
       "      <td>Inactive</td>\n",
       "    </tr>\n",
       "    <tr>\n",
       "      <th>1</th>\n",
       "      <td>0</td>\n",
       "      <td>0</td>\n",
       "      <td>0</td>\n",
       "      <td>0</td>\n",
       "      <td>0</td>\n",
       "      <td>0</td>\n",
       "      <td>0</td>\n",
       "      <td>0</td>\n",
       "      <td>0</td>\n",
       "      <td>0</td>\n",
       "      <td>...</td>\n",
       "      <td>3.42</td>\n",
       "      <td>1.56</td>\n",
       "      <td>89.05</td>\n",
       "      <td>2</td>\n",
       "      <td>5</td>\n",
       "      <td>1</td>\n",
       "      <td>350.43</td>\n",
       "      <td>0</td>\n",
       "      <td>3</td>\n",
       "      <td>Inactive</td>\n",
       "    </tr>\n",
       "    <tr>\n",
       "      <th>2</th>\n",
       "      <td>0</td>\n",
       "      <td>0</td>\n",
       "      <td>0</td>\n",
       "      <td>0</td>\n",
       "      <td>0</td>\n",
       "      <td>0</td>\n",
       "      <td>0</td>\n",
       "      <td>0</td>\n",
       "      <td>0</td>\n",
       "      <td>0</td>\n",
       "      <td>...</td>\n",
       "      <td>3.31</td>\n",
       "      <td>-2.39</td>\n",
       "      <td>235.95</td>\n",
       "      <td>10</td>\n",
       "      <td>12</td>\n",
       "      <td>2</td>\n",
       "      <td>471.54</td>\n",
       "      <td>0</td>\n",
       "      <td>0</td>\n",
       "      <td>Inactive</td>\n",
       "    </tr>\n",
       "    <tr>\n",
       "      <th>3</th>\n",
       "      <td>0</td>\n",
       "      <td>0</td>\n",
       "      <td>0</td>\n",
       "      <td>0</td>\n",
       "      <td>0</td>\n",
       "      <td>0</td>\n",
       "      <td>0</td>\n",
       "      <td>0</td>\n",
       "      <td>0</td>\n",
       "      <td>0</td>\n",
       "      <td>...</td>\n",
       "      <td>3.66</td>\n",
       "      <td>2.52</td>\n",
       "      <td>224.45</td>\n",
       "      <td>14</td>\n",
       "      <td>15</td>\n",
       "      <td>5</td>\n",
       "      <td>807.88</td>\n",
       "      <td>0</td>\n",
       "      <td>2</td>\n",
       "      <td>Inactive</td>\n",
       "    </tr>\n",
       "    <tr>\n",
       "      <th>4</th>\n",
       "      <td>0</td>\n",
       "      <td>0</td>\n",
       "      <td>0</td>\n",
       "      <td>0</td>\n",
       "      <td>0</td>\n",
       "      <td>0</td>\n",
       "      <td>0</td>\n",
       "      <td>0</td>\n",
       "      <td>0</td>\n",
       "      <td>0</td>\n",
       "      <td>...</td>\n",
       "      <td>3.32</td>\n",
       "      <td>-0.06</td>\n",
       "      <td>115.85</td>\n",
       "      <td>5</td>\n",
       "      <td>7</td>\n",
       "      <td>3</td>\n",
       "      <td>285.28</td>\n",
       "      <td>0</td>\n",
       "      <td>1</td>\n",
       "      <td>Inactive</td>\n",
       "    </tr>\n",
       "  </tbody>\n",
       "</table>\n",
       "<p>5 rows × 155 columns</p>\n",
       "</div>"
      ],
      "text/plain": [
       "   NEG_01_NEG  NEG_02_NEG  NEG_03_NEG  NEG_04_NEG  NEG_05_NEG  NEG_06_NEG  \\\n",
       "0           0           0           0           0           0           0   \n",
       "1           0           0           0           0           0           0   \n",
       "2           0           0           0           0           0           0   \n",
       "3           0           0           0           0           0           0   \n",
       "4           0           0           0           0           0           0   \n",
       "\n",
       "   NEG_07_NEG  NEG_03_POS  NEG_04_POS  NEG_05_POS  ...  WBN_LP_H_100  XLogP  \\\n",
       "0           0           0           0           0  ...          3.64   1.75   \n",
       "1           0           0           0           0  ...          3.42   1.56   \n",
       "2           0           0           0           0  ...          3.31  -2.39   \n",
       "3           0           0           0           0  ...          3.66   2.52   \n",
       "4           0           0           0           0  ...          3.32  -0.06   \n",
       "\n",
       "      PSA  NumRot  NumHBA  NumHBD      MW  BBB  BadGroup   Outcome  \n",
       "0   46.53       3       3       1  230.26    1         0  Inactive  \n",
       "1   89.05       2       5       1  350.43    0         3  Inactive  \n",
       "2  235.95      10      12       2  471.54    0         0  Inactive  \n",
       "3  224.45      14      15       5  807.88    0         2  Inactive  \n",
       "4  115.85       5       7       3  285.28    0         1  Inactive  \n",
       "\n",
       "[5 rows x 155 columns]"
      ]
     },
     "execution_count": 31,
     "metadata": {},
     "output_type": "execute_result"
    }
   ],
   "source": [
    "test.head(5)"
   ]
  },
  {
   "cell_type": "code",
   "execution_count": 32,
   "metadata": {},
   "outputs": [],
   "source": [
    "def outcome_to_numeric(x):\n",
    "    if x=='Inactive':\n",
    "        return 0\n",
    "    if x=='Active':\n",
    "        return 1"
   ]
  },
  {
   "cell_type": "code",
   "execution_count": 33,
   "metadata": {},
   "outputs": [
    {
     "data": {
      "text/html": [
       "<div>\n",
       "<style scoped>\n",
       "    .dataframe tbody tr th:only-of-type {\n",
       "        vertical-align: middle;\n",
       "    }\n",
       "\n",
       "    .dataframe tbody tr th {\n",
       "        vertical-align: top;\n",
       "    }\n",
       "\n",
       "    .dataframe thead th {\n",
       "        text-align: right;\n",
       "    }\n",
       "</style>\n",
       "<table border=\"1\" class=\"dataframe\">\n",
       "  <thead>\n",
       "    <tr style=\"text-align: right;\">\n",
       "      <th></th>\n",
       "      <th>NEG_01_NEG</th>\n",
       "      <th>NEG_02_NEG</th>\n",
       "      <th>NEG_03_NEG</th>\n",
       "      <th>NEG_04_NEG</th>\n",
       "      <th>NEG_05_NEG</th>\n",
       "      <th>NEG_06_NEG</th>\n",
       "      <th>NEG_07_NEG</th>\n",
       "      <th>NEG_03_POS</th>\n",
       "      <th>NEG_04_POS</th>\n",
       "      <th>NEG_05_POS</th>\n",
       "      <th>...</th>\n",
       "      <th>XLogP</th>\n",
       "      <th>PSA</th>\n",
       "      <th>NumRot</th>\n",
       "      <th>NumHBA</th>\n",
       "      <th>NumHBD</th>\n",
       "      <th>MW</th>\n",
       "      <th>BBB</th>\n",
       "      <th>BadGroup</th>\n",
       "      <th>Outcome</th>\n",
       "      <th>label</th>\n",
       "    </tr>\n",
       "  </thead>\n",
       "  <tbody>\n",
       "    <tr>\n",
       "      <th>0</th>\n",
       "      <td>0</td>\n",
       "      <td>0</td>\n",
       "      <td>0</td>\n",
       "      <td>0</td>\n",
       "      <td>0</td>\n",
       "      <td>0</td>\n",
       "      <td>0</td>\n",
       "      <td>0</td>\n",
       "      <td>0</td>\n",
       "      <td>0</td>\n",
       "      <td>...</td>\n",
       "      <td>1.75</td>\n",
       "      <td>46.53</td>\n",
       "      <td>3</td>\n",
       "      <td>3</td>\n",
       "      <td>1</td>\n",
       "      <td>230.26</td>\n",
       "      <td>1</td>\n",
       "      <td>0</td>\n",
       "      <td>Inactive</td>\n",
       "      <td>0</td>\n",
       "    </tr>\n",
       "    <tr>\n",
       "      <th>1</th>\n",
       "      <td>0</td>\n",
       "      <td>0</td>\n",
       "      <td>0</td>\n",
       "      <td>0</td>\n",
       "      <td>0</td>\n",
       "      <td>0</td>\n",
       "      <td>0</td>\n",
       "      <td>0</td>\n",
       "      <td>0</td>\n",
       "      <td>0</td>\n",
       "      <td>...</td>\n",
       "      <td>1.56</td>\n",
       "      <td>89.05</td>\n",
       "      <td>2</td>\n",
       "      <td>5</td>\n",
       "      <td>1</td>\n",
       "      <td>350.43</td>\n",
       "      <td>0</td>\n",
       "      <td>3</td>\n",
       "      <td>Inactive</td>\n",
       "      <td>0</td>\n",
       "    </tr>\n",
       "    <tr>\n",
       "      <th>2</th>\n",
       "      <td>0</td>\n",
       "      <td>0</td>\n",
       "      <td>0</td>\n",
       "      <td>0</td>\n",
       "      <td>0</td>\n",
       "      <td>0</td>\n",
       "      <td>0</td>\n",
       "      <td>0</td>\n",
       "      <td>0</td>\n",
       "      <td>0</td>\n",
       "      <td>...</td>\n",
       "      <td>-2.39</td>\n",
       "      <td>235.95</td>\n",
       "      <td>10</td>\n",
       "      <td>12</td>\n",
       "      <td>2</td>\n",
       "      <td>471.54</td>\n",
       "      <td>0</td>\n",
       "      <td>0</td>\n",
       "      <td>Inactive</td>\n",
       "      <td>0</td>\n",
       "    </tr>\n",
       "    <tr>\n",
       "      <th>3</th>\n",
       "      <td>0</td>\n",
       "      <td>0</td>\n",
       "      <td>0</td>\n",
       "      <td>0</td>\n",
       "      <td>0</td>\n",
       "      <td>0</td>\n",
       "      <td>0</td>\n",
       "      <td>0</td>\n",
       "      <td>0</td>\n",
       "      <td>0</td>\n",
       "      <td>...</td>\n",
       "      <td>2.52</td>\n",
       "      <td>224.45</td>\n",
       "      <td>14</td>\n",
       "      <td>15</td>\n",
       "      <td>5</td>\n",
       "      <td>807.88</td>\n",
       "      <td>0</td>\n",
       "      <td>2</td>\n",
       "      <td>Inactive</td>\n",
       "      <td>0</td>\n",
       "    </tr>\n",
       "    <tr>\n",
       "      <th>4</th>\n",
       "      <td>0</td>\n",
       "      <td>0</td>\n",
       "      <td>0</td>\n",
       "      <td>0</td>\n",
       "      <td>0</td>\n",
       "      <td>0</td>\n",
       "      <td>0</td>\n",
       "      <td>0</td>\n",
       "      <td>0</td>\n",
       "      <td>0</td>\n",
       "      <td>...</td>\n",
       "      <td>-0.06</td>\n",
       "      <td>115.85</td>\n",
       "      <td>5</td>\n",
       "      <td>7</td>\n",
       "      <td>3</td>\n",
       "      <td>285.28</td>\n",
       "      <td>0</td>\n",
       "      <td>1</td>\n",
       "      <td>Inactive</td>\n",
       "      <td>0</td>\n",
       "    </tr>\n",
       "  </tbody>\n",
       "</table>\n",
       "<p>5 rows × 156 columns</p>\n",
       "</div>"
      ],
      "text/plain": [
       "   NEG_01_NEG  NEG_02_NEG  NEG_03_NEG  NEG_04_NEG  NEG_05_NEG  NEG_06_NEG  \\\n",
       "0           0           0           0           0           0           0   \n",
       "1           0           0           0           0           0           0   \n",
       "2           0           0           0           0           0           0   \n",
       "3           0           0           0           0           0           0   \n",
       "4           0           0           0           0           0           0   \n",
       "\n",
       "   NEG_07_NEG  NEG_03_POS  NEG_04_POS  NEG_05_POS  ...  XLogP     PSA  NumRot  \\\n",
       "0           0           0           0           0  ...   1.75   46.53       3   \n",
       "1           0           0           0           0  ...   1.56   89.05       2   \n",
       "2           0           0           0           0  ...  -2.39  235.95      10   \n",
       "3           0           0           0           0  ...   2.52  224.45      14   \n",
       "4           0           0           0           0  ...  -0.06  115.85       5   \n",
       "\n",
       "   NumHBA  NumHBD      MW  BBB  BadGroup   Outcome  label  \n",
       "0       3       1  230.26    1         0  Inactive      0  \n",
       "1       5       1  350.43    0         3  Inactive      0  \n",
       "2      12       2  471.54    0         0  Inactive      0  \n",
       "3      15       5  807.88    0         2  Inactive      0  \n",
       "4       7       3  285.28    0         1  Inactive      0  \n",
       "\n",
       "[5 rows x 156 columns]"
      ]
     },
     "execution_count": 33,
     "metadata": {},
     "output_type": "execute_result"
    }
   ],
   "source": [
    "# Apply function to label column\n",
    "train['label'] = train['Outcome'].apply(outcome_to_numeric)\n",
    "test['label'] = test['Outcome'].apply(outcome_to_numeric)\n",
    "test.head()"
   ]
  },
  {
   "cell_type": "code",
   "execution_count": 34,
   "metadata": {},
   "outputs": [],
   "source": [
    "# Drop categorical column\n",
    "train=train.drop('Outcome', axis=1)\n",
    "test=test.drop('Outcome', axis=1)"
   ]
  },
  {
   "cell_type": "code",
   "execution_count": 35,
   "metadata": {},
   "outputs": [],
   "source": [
    "# Split datasets into feature and label dataframes\n",
    "x_train = train.drop('label', axis=1)\n",
    "y_train = train['label']\n",
    "\n",
    "x_test = test.drop('label', axis=1)\n",
    "y_test = test['label']"
   ]
  },
  {
   "cell_type": "code",
   "execution_count": 40,
   "metadata": {},
   "outputs": [
    {
     "data": {
      "text/plain": [
       "Pipeline(memory=None,\n",
       "         steps=[('standardscaler',\n",
       "                 StandardScaler(copy=True, with_mean=True, with_std=True)),\n",
       "                ('linearsvc',\n",
       "                 LinearSVC(C=1.0, class_weight=None, dual=True,\n",
       "                           fit_intercept=True, intercept_scaling=1,\n",
       "                           loss='squared_hinge', max_iter=1000,\n",
       "                           multi_class='ovr', penalty='l2', random_state=0,\n",
       "                           tol=1e-05, verbose=0))],\n",
       "         verbose=False)"
      ]
     },
     "execution_count": 40,
     "metadata": {},
     "output_type": "execute_result"
    }
   ],
   "source": [
    ">>> from sklearn.svm import LinearSVC\n",
    ">>> from sklearn.pipeline import make_pipeline\n",
    ">>> from sklearn.preprocessing import StandardScaler\n",
    ">>> from sklearn.datasets import make_classification\n",
    ">>> x, y = make_classification(n_features=4, random_state=0)\n",
    ">>> clf = make_pipeline(StandardScaler(),\n",
    "...                     LinearSVC(random_state=0, tol=1e-5))\n",
    ">>> clf.fit(x, y)\n"
   ]
  },
  {
   "cell_type": "code",
   "execution_count": 41,
   "metadata": {},
   "outputs": [
    {
     "name": "stdout",
     "output_type": "stream",
     "text": [
      "[[0.14144312 0.52678395 0.67978678 0.49307517]]\n"
     ]
    }
   ],
   "source": [
    ">>> print(clf.named_steps['linearsvc'].coef_)"
   ]
  },
  {
   "cell_type": "code",
   "execution_count": 43,
   "metadata": {},
   "outputs": [
    {
     "name": "stdout",
     "output_type": "stream",
     "text": [
      "[0.16935943]\n",
      "[1]\n"
     ]
    }
   ],
   "source": [
    ">>> print(clf.named_steps['linearsvc'].intercept_)\n",
    "\n",
    ">>> print(clf.predict([[0, 0, 0, 0]]))"
   ]
  },
  {
   "cell_type": "code",
   "execution_count": 44,
   "metadata": {},
   "outputs": [],
   "source": [
    "import matplotlib.pyplot as plt"
   ]
  },
  {
   "cell_type": "code",
   "execution_count": 47,
   "metadata": {},
   "outputs": [],
   "source": [
    "def plot_contours(ax, clf, xx, yy, **params):\n",
    "    Z = clf.predict(np.c_[xx.ravel(), yy.ravel()])\n",
    "    Z = Z.reshape(xx.shape)\n",
    "    out = ax.contourf(xx, yy, Z, **params)\n",
    "    return out"
   ]
  },
  {
   "cell_type": "code",
   "execution_count": 53,
   "metadata": {},
   "outputs": [
    {
     "ename": "TypeError",
     "evalue": "zip argument #1 must support iteration",
     "output_type": "error",
     "traceback": [
      "\u001b[0;31m---------------------------------------------------------------------------\u001b[0m",
      "\u001b[0;31mTypeError\u001b[0m                                 Traceback (most recent call last)",
      "\u001b[0;32m<ipython-input-53-d1fb82cbbcaf>\u001b[0m in \u001b[0;36m<module>\u001b[0;34m\u001b[0m\n\u001b[1;32m      9\u001b[0m \u001b[0;34m\u001b[0m\u001b[0m\n\u001b[1;32m     10\u001b[0m \u001b[0;34m\u001b[0m\u001b[0m\n\u001b[0;32m---> 11\u001b[0;31m \u001b[0;32mfor\u001b[0m \u001b[0mclf\u001b[0m\u001b[0;34m.\u001b[0m\u001b[0mfit\u001b[0m\u001b[0;34m,\u001b[0m \u001b[0mtitle\u001b[0m\u001b[0;34m,\u001b[0m \u001b[0max\u001b[0m \u001b[0;32min\u001b[0m \u001b[0mzip\u001b[0m\u001b[0;34m(\u001b[0m\u001b[0mclf\u001b[0m\u001b[0;34m.\u001b[0m\u001b[0mfit\u001b[0m\u001b[0;34m,\u001b[0m \u001b[0mtitles\u001b[0m\u001b[0;34m,\u001b[0m \u001b[0msub\u001b[0m\u001b[0;34m.\u001b[0m\u001b[0mflatten\u001b[0m\u001b[0;34m(\u001b[0m\u001b[0;34m)\u001b[0m\u001b[0;34m)\u001b[0m\u001b[0;34m:\u001b[0m\u001b[0;34m\u001b[0m\u001b[0;34m\u001b[0m\u001b[0m\n\u001b[0m\u001b[1;32m     12\u001b[0m     plot_contours(ax, clf, xx, yy,\n\u001b[1;32m     13\u001b[0m                   cmap=plt.cm.coolwarm, alpha=0.8)\n",
      "\u001b[0;31mTypeError\u001b[0m: zip argument #1 must support iteration"
     ]
    },
    {
     "data": {
      "image/png": "[encoded data removed]",
      "text/plain": [
       "<Figure size 432x288 with 4 Axes>"
      ]
     },
     "metadata": {
      "needs_background": "light"
     },
     "output_type": "display_data"
    }
   ],
   "source": []
  },
  {
   "cell_type": "code",
   "execution_count": null,
   "metadata": {},
   "outputs": [],
   "source": []
  },
  {
   "cell_type": "code",
   "execution_count": null,
   "metadata": {},
   "outputs": [],
   "source": []
  },
  {
   "cell_type": "code",
   "execution_count": 21,
   "metadata": {},
   "outputs": [
    {
     "data": {
      "image/png": "[encoded data removed]",
      "text/plain": [
       "<Figure size 432x288 with 1 Axes>"
      ]
     },
     "metadata": {
      "needs_background": "light"
     },
     "output_type": "display_data"
    }
   ],
   "source": [
    "from sklearn.ensemble import ExtraTreesClassifier\n",
    "import matplotlib.pyplot as plt\n",
    "%matplotlib inline\n",
    "\n",
    "model = ExtraTreesClassifier()\n",
    "model.fit(x_train, y_train)\n",
    "\n",
    "feat_importances = pd.Series(model.feature_importances_, index=x_train.columns)\n",
    "feat_importances.nlargest(5).plot(kind='barh')\n",
    "plt.show()"
   ]
  },
  {
   "cell_type": "code",
   "execution_count": 9,
   "metadata": {},
   "outputs": [],
   "source": [
    "x_train = x_train[['WBN_GC_L_0.50', 'WBN_GC_H_1.00', 'MW', 'WBN_EN_H_0.50', 'WBN_EN_H_0.75']]\n",
    "\n",
    "x_test = x_test[['WBN_GC_L_0.50', 'WBN_GC_H_1.00', 'MW', 'WBN_EN_H_0.50', 'WBN_EN_H_0.75']]"
   ]
  },
  {
   "cell_type": "code",
   "execution_count": null,
   "metadata": {},
   "outputs": [],
   "source": []
  },
  {
   "cell_type": "code",
   "execution_count": null,
   "metadata": {},
   "outputs": [],
   "source": []
  },
  {
   "cell_type": "code",
   "execution_count": null,
   "metadata": {},
   "outputs": [],
   "source": []
  },
  {
   "cell_type": "code",
   "execution_count": null,
   "metadata": {},
   "outputs": [],
   "source": []
  },
  {
   "cell_type": "code",
   "execution_count": null,
   "metadata": {},
   "outputs": [],
   "source": []
  },
  {
   "cell_type": "code",
   "execution_count": 18,
   "metadata": {},
   "outputs": [
    {
     "name": "stdout",
     "output_type": "stream",
     "text": [
      "Collecting package metadata (current_repodata.json): done\n",
      "Solving environment: done\n",
      "\n",
      "## Package Plan ##\n",
      "\n",
      "  environment location: /Users/kmaddi/opt/anaconda3\n",
      "\n",
      "  added / updated specs:\n",
      "    - keras\n",
      "\n",
      "\n",
      "The following packages will be downloaded:\n",
      "\n",
      "    package                    |            build\n",
      "    ---------------------------|-----------------\n",
      "    keras-2.3.1                |                0          12 KB\n",
      "    keras-base-2.3.1           |           py37_0         501 KB\n",
      "    ------------------------------------------------------------\n",
      "                                           Total:         513 KB\n",
      "\n",
      "The following NEW packages will be INSTALLED:\n",
      "\n",
      "  keras              pkgs/main/osx-64::keras-2.3.1-0\n",
      "  keras-base         pkgs/main/osx-64::keras-base-2.3.1-py37_0\n",
      "\n",
      "\n",
      "\n",
      "Downloading and Extracting Packages\n",
      "keras-2.3.1          | 12 KB     | ##################################### | 100% \n",
      "keras-base-2.3.1     | 501 KB    | ##################################### | 100% \n",
      "Preparing transaction: done\n",
      "Verifying transaction: done\n",
      "Executing transaction: done\n",
      "\n",
      "Note: you may need to restart the kernel to use updated packages.\n"
     ]
    }
   ],
   "source": [
    "conda install keras"
   ]
  },
  {
   "cell_type": "code",
   "execution_count": 24,
   "metadata": {},
   "outputs": [],
   "source": [
    "\n",
    "from keras.models import Sequential\n",
    "from keras.layers import Dense, Dropout, Activation\n",
    "from keras.layers.noise import AlphaDropout\n",
    "from keras import optimizers\n",
    "from keras import layers\n",
    "\n",
    "\n",
    "model = Sequential()\n",
    "model.add(Dense(64, input_dim=154, activation='relu'))\n",
    "model.add(Dropout(0.2))\n",
    "model.add(Dense(64, activation='relu'))\n",
    "model.add(Dropout(0.2))\n",
    "model.add(Dense(32, activation='relu'))\n",
    "model.add(Dense(1, activation='sigmoid'))\n",
    "\n",
    "opt = optimizers.Adadelta(lr=.01)\n",
    "\n",
    "model.compile(loss='binary_crossentropy',\n",
    "              optimizer=opt,\n",
    "              metrics=['accuracy'])"
   ]
  },
  {
   "cell_type": "code",
   "execution_count": 25,
   "metadata": {},
   "outputs": [
    {
     "name": "stdout",
     "output_type": "stream",
     "text": [
      "Epoch 1/30\n",
      "47826/47826 [==============================] - 3s 68us/step - loss: 5.5589 - accuracy: 0.5384\n",
      "Epoch 2/30\n",
      "47826/47826 [==============================] - 2s 46us/step - loss: 0.3659 - accuracy: 0.9463\n",
      "Epoch 3/30\n",
      "47826/47826 [==============================] - 2s 46us/step - loss: 0.0997 - accuracy: 0.9868\n",
      "Epoch 4/30\n",
      "47826/47826 [==============================] - 2s 49us/step - loss: 0.0596 - accuracy: 0.9940\n",
      "Epoch 5/30\n",
      "47826/47826 [==============================] - 2s 52us/step - loss: 0.0480 - accuracy: 0.9960\n",
      "Epoch 6/30\n",
      "47826/47826 [==============================] - 2s 51us/step - loss: 0.0482 - accuracy: 0.9966\n",
      "Epoch 7/30\n",
      "47826/47826 [==============================] - 2s 51us/step - loss: 0.0456 - accuracy: 0.9971\n",
      "Epoch 8/30\n",
      "47826/47826 [==============================] - 2s 50us/step - loss: 0.0442 - accuracy: 0.9974\n",
      "Epoch 9/30\n",
      "47826/47826 [==============================] - 2s 50us/step - loss: 0.0420 - accuracy: 0.9976\n",
      "Epoch 10/30\n",
      "47826/47826 [==============================] - 2s 52us/step - loss: 0.0430 - accuracy: 0.9978\n",
      "Epoch 11/30\n",
      "47826/47826 [==============================] - 2s 51us/step - loss: 0.0420 - accuracy: 0.9978\n",
      "Epoch 12/30\n",
      "47826/47826 [==============================] - 2s 51us/step - loss: 0.0424 - accuracy: 0.9977\n",
      "Epoch 13/30\n",
      "47826/47826 [==============================] - 2s 52us/step - loss: 0.0402 - accuracy: 0.9978\n",
      "Epoch 14/30\n",
      "47826/47826 [==============================] - 2s 51us/step - loss: 0.0414 - accuracy: 0.9979\n",
      "Epoch 15/30\n",
      "47826/47826 [==============================] - 2s 51us/step - loss: 0.0388 - accuracy: 0.9978\n",
      "Epoch 16/30\n",
      "47826/47826 [==============================] - 2s 51us/step - loss: 0.0395 - accuracy: 0.9979\n",
      "Epoch 17/30\n",
      "47826/47826 [==============================] - 2s 52us/step - loss: 0.0394 - accuracy: 0.9978\n",
      "Epoch 18/30\n",
      "47826/47826 [==============================] - 2s 52us/step - loss: 0.0417 - accuracy: 0.9979\n",
      "Epoch 19/30\n",
      "47826/47826 [==============================] - 2s 51us/step - loss: 0.0381 - accuracy: 0.9975\n",
      "Epoch 20/30\n",
      "47826/47826 [==============================] - 2s 52us/step - loss: 0.0374 - accuracy: 0.9979\n",
      "Epoch 21/30\n",
      "47826/47826 [==============================] - 2s 52us/step - loss: 0.0373 - accuracy: 0.9979\n",
      "Epoch 22/30\n",
      "47826/47826 [==============================] - 2s 52us/step - loss: 0.0376 - accuracy: 0.9977\n",
      "Epoch 23/30\n",
      "47826/47826 [==============================] - 2s 52us/step - loss: 0.0357 - accuracy: 0.9983\n",
      "Epoch 24/30\n",
      "47826/47826 [==============================] - 3s 53us/step - loss: 0.0337 - accuracy: 0.9979\n",
      "Epoch 25/30\n",
      "47826/47826 [==============================] - 2s 52us/step - loss: 0.0331 - accuracy: 0.9979\n",
      "Epoch 26/30\n",
      "47826/47826 [==============================] - 2s 52us/step - loss: 0.0322 - accuracy: 0.9982\n",
      "Epoch 27/30\n",
      "47826/47826 [==============================] - 3s 53us/step - loss: 0.0347 - accuracy: 0.9981\n",
      "Epoch 28/30\n",
      "47826/47826 [==============================] - 3s 53us/step - loss: 0.0310 - accuracy: 0.9981\n",
      "Epoch 29/30\n",
      "47826/47826 [==============================] - 3s 53us/step - loss: 0.0334 - accuracy: 0.9978\n",
      "Epoch 30/30\n",
      "47826/47826 [==============================] - 2s 52us/step - loss: 0.0323 - accuracy: 0.9981\n"
     ]
    },
    {
     "data": {
      "text/plain": [
       "<keras.callbacks.callbacks.History at 0x7fd62e6eb4d0>"
      ]
     },
     "execution_count": 25,
     "metadata": {},
     "output_type": "execute_result"
    }
   ],
   "source": [
    "model.fit(x_train, y_train,\n",
    "          epochs=30,\n",
    "          batch_size=128)"
   ]
  },
  {
   "cell_type": "code",
   "execution_count": 26,
   "metadata": {},
   "outputs": [
    {
     "name": "stdout",
     "output_type": "stream",
     "text": [
      "11956/11956 [==============================] - 0s 26us/step\n"
     ]
    }
   ],
   "source": [
    "score = model.evaluate(x_test, y_test, batch_size=128)\n"
   ]
  },
  {
   "cell_type": "code",
   "execution_count": 28,
   "metadata": {},
   "outputs": [
    {
     "data": {
      "text/plain": [
       "[0.027110420385824067, 0.9989126920700073]"
      ]
     },
     "execution_count": 28,
     "metadata": {},
     "output_type": "execute_result"
    }
   ],
   "source": [
    "score"
   ]
  },
  {
   "cell_type": "code",
   "execution_count": null,
   "metadata": {},
   "outputs": [],
   "source": []
  }
 ],
 "metadata": {
  "kernelspec": {
   "display_name": "Python 3",
   "language": "python",
   "name": "python3"
  },
  "language_info": {
   "codemirror_mode": {
    "name": "ipython",
    "version": 3
   },
   "file_extension": ".py",
   "mimetype": "text/x-python",
   "name": "python",
   "nbconvert_exporter": "python",
   "pygments_lexer": "ipython3",
   "version": "3.7.6"
  }
 },
 "nbformat": 4,
 "nbformat_minor": 4
}
